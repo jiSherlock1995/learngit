{
 "cells": [
  {
   "cell_type": "code",
   "execution_count": 1,
   "metadata": {},
   "outputs": [],
   "source": [
    "#第七章 数据清洗与准备\n",
    "#数据加载、清理、转换、重新排列\n",
    "import numpy as np\n",
    "import pandas as pd\n",
    "from pandas import Series,DataFrame"
   ]
  },
  {
   "cell_type": "code",
   "execution_count": 3,
   "metadata": {},
   "outputs": [
    {
     "name": "stdout",
     "output_type": "stream",
     "text": [
      "0     aardvark\n",
      "1    artichoke\n",
      "2          NaN\n",
      "3      avocado\n",
      "dtype: object\n",
      "---------\n",
      "0    False\n",
      "1    False\n",
      "2     True\n",
      "3    False\n",
      "dtype: bool\n"
     ]
    }
   ],
   "source": [
    "#处理缺失值\n",
    "string_data = pd.Series(['aardvark','artichoke',np.nan,'avocado'])\n",
    "print(string_data)\n",
    "print('---------')\n",
    "print(string_data.isnull())"
   ]
  },
  {
   "cell_type": "code",
   "execution_count": 4,
   "metadata": {},
   "outputs": [
    {
     "name": "stdout",
     "output_type": "stream",
     "text": [
      "0    1.0\n",
      "2    3.5\n",
      "4    7.0\n",
      "dtype: float64\n",
      "---------\n",
      "0    1.0\n",
      "2    3.5\n",
      "4    7.0\n",
      "dtype: float64\n"
     ]
    }
   ],
   "source": [
    "#过滤缺失值\n",
    "from numpy import nan as NA\n",
    "data = pd.Series([1,NA,3.5,NA,7])\n",
    "print(data.dropna())\n",
    "print('---------')\n",
    "print(data[data.notnull()])\n"
   ]
  },
  {
   "cell_type": "code",
   "execution_count": 5,
   "metadata": {},
   "outputs": [
    {
     "name": "stdout",
     "output_type": "stream",
     "text": [
      "          0         1         2\n",
      "0 -1.807991       NaN       NaN\n",
      "1  0.944939       NaN       NaN\n",
      "2  0.786649       NaN  2.792637\n",
      "3 -0.342541       NaN  0.443965\n",
      "4  0.518560 -0.067146 -1.243016\n",
      "5  0.710246  1.041208 -1.367161\n",
      "6  0.599658 -0.010724  0.031712\n",
      "---------\n",
      "          0         1         2\n",
      "4  0.518560 -0.067146 -1.243016\n",
      "5  0.710246  1.041208 -1.367161\n",
      "6  0.599658 -0.010724  0.031712\n",
      "---------\n",
      "          0         1         2\n",
      "0 -1.807991       NaN       NaN\n",
      "1  0.944939       NaN       NaN\n",
      "2  0.786649       NaN  2.792637\n",
      "3 -0.342541       NaN  0.443965\n",
      "4  0.518560 -0.067146 -1.243016\n",
      "5  0.710246  1.041208 -1.367161\n",
      "6  0.599658 -0.010724  0.031712\n",
      "---------\n",
      "          0         1         2\n",
      "2  0.786649       NaN  2.792637\n",
      "3 -0.342541       NaN  0.443965\n",
      "4  0.518560 -0.067146 -1.243016\n",
      "5  0.710246  1.041208 -1.367161\n",
      "6  0.599658 -0.010724  0.031712\n",
      "---------\n",
      "          0         1         2\n",
      "4  0.518560 -0.067146 -1.243016\n",
      "5  0.710246  1.041208 -1.367161\n",
      "6  0.599658 -0.010724  0.031712\n"
     ]
    }
   ],
   "source": [
    "df = pd.DataFrame(np.random.randn(7,3))\n",
    "df.iloc[:4,1]=NA\n",
    "df.iloc[:2,2]=NA\n",
    "print(df)\n",
    "print('---------')\n",
    "print(df.dropna())\n",
    "print('---------')\n",
    "print(df.dropna(how = 'all'))\n",
    "print('---------')\n",
    "print(df.dropna(thresh = 2))\n",
    "print('---------')\n",
    "print(df.dropna(thresh = 3))"
   ]
  },
  {
   "cell_type": "code",
   "execution_count": 20,
   "metadata": {},
   "outputs": [
    {
     "name": "stdout",
     "output_type": "stream",
     "text": [
      "          0         1         2\n",
      "0  0.252806  0.000000  0.000000\n",
      "1 -0.599935  0.000000  0.000000\n",
      "2 -1.021984  0.000000  0.339744\n",
      "3  0.518696  0.000000 -0.374471\n",
      "4 -0.006302  1.519335 -1.109203\n",
      "5 -0.794350  0.831432  1.338812\n",
      "6  2.262281 -0.573307  0.227647\n",
      "---------\n",
      "          0         1         2\n",
      "0  0.252806  0.500000  0.000000\n",
      "1 -0.599935  0.500000  0.000000\n",
      "2 -1.021984  0.500000  0.339744\n",
      "3  0.518696  0.500000 -0.374471\n",
      "4 -0.006302  1.519335 -1.109203\n",
      "5 -0.794350  0.831432  1.338812\n",
      "6  2.262281 -0.573307  0.227647\n",
      "---------\n",
      "          0         1         2\n",
      "0  0.252806  0.000000  0.000000\n",
      "1 -0.599935  0.000000  0.000000\n",
      "2 -1.021984  0.000000  0.339744\n",
      "3  0.518696  0.000000 -0.374471\n",
      "4 -0.006302  1.519335 -1.109203\n",
      "5 -0.794350  0.831432  1.338812\n",
      "6  2.262281 -0.573307  0.227647\n"
     ]
    }
   ],
   "source": [
    "#补全缺失值\n",
    "print(df.fillna(0))\n",
    "print('---------')\n",
    "print(df.fillna({1:0.5,2:0}))\n",
    "print('---------')\n",
    "_ = df.fillna(0,inplace=True)\n",
    "print(df)"
   ]
  },
  {
   "cell_type": "code",
   "execution_count": 30,
   "metadata": {},
   "outputs": [
    {
     "name": "stdout",
     "output_type": "stream",
     "text": [
      "          0         1         2\n",
      "0  0.803887       NaN       NaN\n",
      "1 -0.802666       NaN       NaN\n",
      "2 -2.032836       NaN -2.563250\n",
      "3 -0.387970       NaN -0.595209\n",
      "4 -1.663891 -1.490857 -0.268202\n",
      "5  0.178890 -0.153283 -2.137426\n",
      "6 -1.373116  0.710935 -1.784866\n",
      "---------\n",
      "          0         1         2\n",
      "0  0.803887       NaN       NaN\n",
      "1 -0.802666       NaN       NaN\n",
      "2 -2.032836       NaN -2.563250\n",
      "3 -0.387970       NaN -0.595209\n",
      "4 -1.663891 -1.490857 -0.268202\n",
      "5  0.178890 -0.153283 -2.137426\n",
      "6 -1.373116  0.710935 -1.784866\n",
      "---------\n",
      "          0         1         2\n",
      "0  0.803887 -1.490857 -2.563250\n",
      "1 -0.802666 -1.490857 -2.563250\n",
      "2 -2.032836 -1.490857 -2.563250\n",
      "3 -0.387970 -1.490857 -0.595209\n",
      "4 -1.663891 -1.490857 -0.268202\n",
      "5  0.178890 -0.153283 -2.137426\n",
      "6 -1.373116  0.710935 -1.784866\n",
      "---------\n",
      "          0         1         2\n",
      "0  0.803887       NaN -2.563250\n",
      "1 -0.802666       NaN -2.563250\n",
      "2 -2.032836 -1.490857 -2.563250\n",
      "3 -0.387970 -1.490857 -0.595209\n",
      "4 -1.663891 -1.490857 -0.268202\n",
      "5  0.178890 -0.153283 -2.137426\n",
      "6 -1.373116  0.710935 -1.784866\n"
     ]
    }
   ],
   "source": [
    "print(df)\n",
    "print('---------')\n",
    "print(df.fillna(method = 'ffill'))\n",
    "print('---------') \n",
    "print(df.fillna(method = 'bfill'))\n",
    "print('---------') \n",
    "print(df.fillna(method = 'bfill',limit = 2))"
   ]
  },
  {
   "cell_type": "code",
   "execution_count": 32,
   "metadata": {},
   "outputs": [
    {
     "name": "stdout",
     "output_type": "stream",
     "text": [
      "0    1.0\n",
      "1    NaN\n",
      "2    3.5\n",
      "3    NaN\n",
      "4    7.0\n",
      "dtype: float64\n",
      "---------\n",
      "0    1.000000\n",
      "1    3.833333\n",
      "2    3.500000\n",
      "3    3.833333\n",
      "4    7.000000\n",
      "dtype: float64\n"
     ]
    }
   ],
   "source": [
    "data = pd.Series([1.,NA,3.5,NA,7])\n",
    "print(data)\n",
    "print('---------') \n",
    "print(data.fillna(data.mean()))"
   ]
  },
  {
   "cell_type": "code",
   "execution_count": 9,
   "metadata": {
    "scrolled": true
   },
   "outputs": [
    {
     "name": "stdout",
     "output_type": "stream",
     "text": [
      "    k1  k2\n",
      "0  one   1\n",
      "1  two   1\n",
      "2  one   2\n",
      "3  two   3\n",
      "4  one   3\n",
      "5  two   4\n",
      "6  two   4\n",
      "---------\n",
      "0    False\n",
      "1    False\n",
      "2    False\n",
      "3    False\n",
      "4    False\n",
      "5    False\n",
      "6     True\n",
      "dtype: bool\n",
      "---------\n",
      "    k1  k2\n",
      "0  one   1\n",
      "1  two   1\n",
      "2  one   2\n",
      "3  two   3\n",
      "4  one   3\n",
      "5  two   4\n",
      "---------\n",
      "    k1  k2  v1\n",
      "0  one   1   0\n",
      "1  two   1   1\n",
      "2  one   2   2\n",
      "3  two   3   3\n",
      "4  one   3   4\n",
      "5  two   4   5\n",
      "6  two   4   6\n",
      "---------\n",
      "0    False\n",
      "1    False\n",
      "2     True\n",
      "3     True\n",
      "4     True\n",
      "5     True\n",
      "6     True\n",
      "dtype: bool\n",
      "---------\n",
      "    k1  k2  v1\n",
      "0  one   1   0\n",
      "1  two   1   1\n",
      "2  one   2   2\n",
      "3  two   3   3\n",
      "4  one   3   4\n",
      "6  two   4   6\n"
     ]
    }
   ],
   "source": [
    "#数据转换\n",
    "#删除重复值\n",
    "data = pd.DataFrame({'k1':['one','two']*3 + ['two'],\n",
    "                    'k2':[1,1,2,3,3,4,4]})\n",
    "print(data)\n",
    "print('---------') \n",
    "print(data.duplicated())\n",
    "print('---------') \n",
    "print(data.drop_duplicates())\n",
    "print('---------') \n",
    "data['v1'] = range(7)\n",
    "print(data)\n",
    "print('---------') \n",
    "print(data.duplicated(['k1']))\n",
    "print('---------') \n",
    "print(data.drop_duplicates(['k1','k2'],keep = 'last'))\n"
   ]
  },
  {
   "cell_type": "code",
   "execution_count": 13,
   "metadata": {},
   "outputs": [
    {
     "name": "stdout",
     "output_type": "stream",
     "text": [
      "          food  ounces\n",
      "0        bacon     4.0\n",
      "1  pulled pork     3.0\n",
      "2        bacon    12.0\n",
      "3     Pastrami     6.0\n",
      "4  corned beef     7.5\n",
      "5        Bacon     8.0\n",
      "6     pastrami     3.0\n",
      "7    honey ham     5.0\n",
      "8     nova lox     6.0\n",
      "---------\n",
      "0          bacon\n",
      "1    pulled pork\n",
      "2          bacon\n",
      "3       pastrami\n",
      "4    corned beef\n",
      "5          bacon\n",
      "6       pastrami\n",
      "7      honey ham\n",
      "8       nova lox\n",
      "Name: food, dtype: object\n",
      "---------\n",
      "          food  ounces  animal\n",
      "0        bacon     4.0     pig\n",
      "1  pulled pork     3.0     pig\n",
      "2        bacon    12.0     pig\n",
      "3     Pastrami     6.0     cow\n",
      "4  corned beef     7.5     cow\n",
      "5        Bacon     8.0     pig\n",
      "6     pastrami     3.0     cow\n",
      "7    honey ham     5.0     pig\n",
      "8     nova lox     6.0  salmon\n",
      "---------\n"
     ]
    },
    {
     "data": {
      "text/plain": [
       "0       pig\n",
       "1       pig\n",
       "2       pig\n",
       "3       cow\n",
       "4       cow\n",
       "5       pig\n",
       "6       cow\n",
       "7       pig\n",
       "8    salmon\n",
       "Name: food, dtype: object"
      ]
     },
     "execution_count": 13,
     "metadata": {},
     "output_type": "execute_result"
    }
   ],
   "source": [
    "#使用函数或映射进行数据转换\n",
    "data = pd.DataFrame({'food':['bacon','pulled pork','bacon','Pastrami','corned beef','Bacon','pastrami','honey ham','nova lox'],\n",
    "                     'ounces':[4,3,12,6,7.5,8,3,5,6]})\n",
    "print(data)\n",
    "print('---------') \n",
    "meat_to_animal = {\n",
    "    'bacon':'pig',\n",
    "    'pulled pork':'pig',\n",
    "    'pastrami':'cow',\n",
    "    'corned beef':'cow',\n",
    "    'honey ham':'pig',\n",
    "    'nova lox':'salmon'\n",
    "}\n",
    "lowercased = data['food'].str.lower()\n",
    "print(lowercased)\n",
    "print('---------') \n",
    "data['animal'] = lowercased.map(meat_to_animal)\n",
    "print(data)\n",
    "print('---------') \n",
    "data['food'].map(lambda x :meat_to_animal[x.lower()])"
   ]
  },
  {
   "cell_type": "code",
   "execution_count": 15,
   "metadata": {},
   "outputs": [
    {
     "name": "stdout",
     "output_type": "stream",
     "text": [
      "0       1.0\n",
      "1    -999.0\n",
      "2       2.0\n",
      "3    -999.0\n",
      "4   -1000.0\n",
      "5       3.0\n",
      "dtype: float64\n",
      "---------\n",
      "0       1.0\n",
      "1       NaN\n",
      "2       2.0\n",
      "3       NaN\n",
      "4   -1000.0\n",
      "5       3.0\n",
      "dtype: float64\n",
      "---------\n",
      "0    1.0\n",
      "1    NaN\n",
      "2    2.0\n",
      "3    NaN\n",
      "4    NaN\n",
      "5    3.0\n",
      "dtype: float64\n"
     ]
    }
   ],
   "source": [
    "#替代值\n",
    "data = pd.Series([1.,-999.,2.,-999.,-1000.,3.])\n",
    "print(data)\n",
    "print('---------')\n",
    "print(data.replace(-999,np.nan))\n",
    "print('---------')\n",
    "print(data.replace([-999,-1000],np.nan))"
   ]
  },
  {
   "cell_type": "code",
   "execution_count": 23,
   "metadata": {},
   "outputs": [
    {
     "name": "stdout",
     "output_type": "stream",
     "text": [
      "      one  two  three  four\n",
      "OHIO    0    1      2     3\n",
      "COLO    4    5      6     7\n",
      "NEW     8    9     10    11\n",
      "---------\n",
      "      ONE  TWO  THREE  FOUR\n",
      "Ohio    0    1      2     3\n",
      "Colo    4    5      6     7\n",
      "New     8    9     10    11\n",
      "---------\n",
      "      one  two  three  four\n",
      "OHIO    0    1      2     3\n",
      "COLO    4    5      6     7\n",
      "NEW     8    9     10    11\n",
      "---------\n",
      "         one  two  peekaboo  four\n",
      "INDIANA    0    1         2     3\n",
      "COLO       4    5         6     7\n",
      "NEW        8    9        10    11\n"
     ]
    }
   ],
   "source": [
    "#重命名轴索引\n",
    "data = pd.DataFrame(np.arange(12).reshape(3,4),\n",
    "                    index = ['Ohio','Colorado','New York'],\n",
    "                    columns = ['one','two','three','four'])\n",
    "transform = lambda x : x[:4].upper()\n",
    "data.index = data.index.map(transform)\n",
    "print(data)\n",
    "print('---------')\n",
    "print(data.rename(index = str.title,columns = str.upper))\n",
    "print('---------')\n",
    "print(data)\n",
    "print('---------')\n",
    "print(data.rename(index = {'OHIO':'INDIANA'},\n",
    "            columns = {'three':'peekaboo'}))"
   ]
  },
  {
   "cell_type": "code",
   "execution_count": 36,
   "metadata": {},
   "outputs": [
    {
     "name": "stdout",
     "output_type": "stream",
     "text": [
      "[(18, 25], (18, 25], (18, 25], (25, 35], (18, 25], ..., (25, 35], (60, 100], (35, 60], (35, 60], (25, 35]]\n",
      "Length: 12\n",
      "Categories (4, interval[int64]): [(18, 25] < (25, 35] < (35, 60] < (60, 100]]\n",
      "------------\n",
      "[0 0 0 1 0 0 2 1 3 2 2 1]\n",
      "-------------\n",
      "IntervalIndex([(18, 25], (25, 35], (35, 60], (60, 100]]\n",
      "              closed='right',\n",
      "              dtype='interval[int64]')\n",
      "--------------\n",
      "(18, 25]     5\n",
      "(35, 60]     3\n",
      "(25, 35]     3\n",
      "(60, 100]    1\n",
      "dtype: int64\n",
      "----------------\n",
      "[Youth1, Youth1, Youth1, Youth2, Youth1, ..., Youth2, Youth4, Youth3, Youth3, Youth2]\n",
      "Length: 12\n",
      "Categories (4, object): [Youth1 < Youth2 < Youth3 < Youth4]\n",
      "--------------\n",
      "[(0.5, 0.71], (0.085, 0.29], (0.29, 0.5], (0.5, 0.71], (0.085, 0.29], ..., (0.71, 0.91], (0.085, 0.29], (0.29, 0.5], (0.29, 0.5], (0.29, 0.5]]\n",
      "Length: 20\n",
      "Categories (4, interval[float64]): [(0.085, 0.29] < (0.29, 0.5] < (0.5, 0.71] < (0.71, 0.91]]\n",
      "--------------------\n",
      "[(0.471, 0.687], (0.08499999999999999, 0.343], (0.343, 0.471], (0.471, 0.687], (0.08499999999999999, 0.343], ..., (0.687, 0.913], (0.08499999999999999, 0.343], (0.343, 0.471], (0.343, 0.471], (0.08499999999999999, 0.343]]\n",
      "Length: 20\n",
      "Categories (4, interval[float64]): [(0.08499999999999999, 0.343] < (0.343, 0.471] < (0.471, 0.687] < (0.687, 0.913]]\n",
      "---------------\n",
      "(0.687, 0.913]                  5\n",
      "(0.471, 0.687]                  5\n",
      "(0.343, 0.471]                  5\n",
      "(0.08499999999999999, 0.343]    5\n",
      "dtype: int64\n"
     ]
    }
   ],
   "source": [
    "#离散化和分箱\n",
    "ages = [20,22,25,27,21,23,37,31,61,45,41,32]\n",
    "bins = [18,25,35,60,100]\n",
    "cats = pd.cut(ages,bins)\n",
    "print(cats)\n",
    "print('------------')\n",
    "print(cats.codes)\n",
    "print('-------------')\n",
    "print(cats.categories)\n",
    "print('--------------')\n",
    "print(pd.value_counts(cats))\n",
    "print('----------------')\n",
    "group_names = ['Youth1','Youth2','Youth3','Youth4']\n",
    "print(pd.cut(ages,bins,labels = group_names))\n",
    "print('--------------')\n",
    "data = np.random.rand(20)\n",
    "print(pd.cut(data,4,precision = 2))\n",
    "print('--------------------')\n",
    "cats2 = pd.qcut(data,4)\n",
    "print(cats2)\n",
    "print('---------------')\n",
    "print(pd.value_counts(cats2))"
   ]
  },
  {
   "cell_type": "code",
   "execution_count": 40,
   "metadata": {},
   "outputs": [
    {
     "name": "stdout",
     "output_type": "stream",
     "text": [
      "                 0            1            2            3\n",
      "count  1000.000000  1000.000000  1000.000000  1000.000000\n",
      "mean      0.009925     0.041610    -0.029093    -0.009423\n",
      "std       0.978485     1.004566     0.977285     1.056257\n",
      "min      -3.100500    -3.394202    -3.258210    -3.611589\n",
      "25%      -0.710636    -0.581812    -0.702456    -0.777181\n",
      "50%       0.057113     0.050955    -0.051161    -0.044659\n",
      "75%       0.632753     0.684036     0.658258     0.697751\n",
      "max       3.303709     3.775084     2.810749     3.581967\n",
      "---------------\n",
      "            0         1         2         3\n",
      "21   1.134741  0.816929 -0.566053 -3.123607\n",
      "139 -0.793339 -3.394202  0.794810  0.604003\n",
      "259  3.303709  0.647273  0.943829 -1.647528\n",
      "376 -0.806392  1.039527 -0.305029 -3.611589\n",
      "511 -0.189286 -1.718753 -0.113836  3.581967\n",
      "519 -2.743362  0.696462 -3.258210 -1.074988\n",
      "608 -1.886440  3.298304 -0.007720  0.378958\n",
      "757 -1.048413  3.775084 -1.093628  0.601916\n",
      "916 -3.100500  0.248221 -0.747564  0.894045\n",
      "---------------\n",
      "                 0            1            2            3\n",
      "count  1000.000000  1000.000000  1000.000000  1000.000000\n",
      "mean      0.009722     0.040931    -0.028835    -0.009270\n",
      "std       0.977193     0.999774     0.976465     1.052161\n",
      "min      -3.000000    -3.000000    -3.000000    -3.000000\n",
      "25%      -0.710636    -0.581812    -0.702456    -0.777181\n",
      "50%       0.057113     0.050955    -0.051161    -0.044659\n",
      "75%       0.632753     0.684036     0.658258     0.697751\n",
      "max       3.000000     3.000000     2.810749     3.000000\n",
      "--------------\n",
      "     0    1    2    3\n",
      "0 -1.0 -1.0 -1.0  1.0\n",
      "1 -1.0  1.0 -1.0  1.0\n",
      "2  1.0  1.0  1.0  1.0\n",
      "3  1.0  1.0 -1.0  1.0\n",
      "4  1.0 -1.0  1.0 -1.0\n"
     ]
    }
   ],
   "source": [
    "#检验和过滤异常值\n",
    "data = pd.DataFrame(np.random.randn(1000,4))\n",
    "print(data.describe())\n",
    "print('---------------')\n",
    "print(data[(np.abs(data)>3).any(1)])\n",
    "print('---------------')\n",
    "data[np.abs(data)>3] = np.sign(data) * 3\n",
    "print(data.describe())\n",
    "print('--------------')\n",
    "print(np.sign(data).head())"
   ]
  },
  {
   "cell_type": "code",
   "execution_count": 47,
   "metadata": {},
   "outputs": [
    {
     "name": "stdout",
     "output_type": "stream",
     "text": [
      "    0   1   2   3\n",
      "0   0   1   2   3\n",
      "1   4   5   6   7\n",
      "2   8   9  10  11\n",
      "3  12  13  14  15\n",
      "4  16  17  18  19\n",
      "--------------\n",
      "[2 0 1 4 3]\n",
      "------------\n",
      "    0   1   2   3\n",
      "2   8   9  10  11\n",
      "0   0   1   2   3\n",
      "1   4   5   6   7\n",
      "4  16  17  18  19\n",
      "3  12  13  14  15\n",
      "--------------\n",
      "    0   1   2   3\n",
      "4  16  17  18  19\n",
      "2   8   9  10  11\n",
      "0   0   1   2   3\n",
      "-----------\n",
      "3    6\n",
      "2   -1\n",
      "0    5\n",
      "0    5\n",
      "2   -1\n",
      "4    4\n",
      "dtype: int64\n"
     ]
    }
   ],
   "source": [
    "#置换和随机抽样\n",
    "df =pd.DataFrame(np.arange(5*4).reshape((5,4)))\n",
    "sampler = np.random.permutation(5)\n",
    "print(df)\n",
    "print('--------------')\n",
    "print(sampler)\n",
    "print('------------')\n",
    "print(df.take(sampler))\n",
    "print('--------------')\n",
    "print(df.sample(n=3))\n",
    "print('-----------')\n",
    "choices = pd.Series([5,7,-1,6,4])\n",
    "draws = choices.sample(n=6,replace = True)\n",
    "print(draws)"
   ]
  },
  {
   "cell_type": "code",
   "execution_count": 87,
   "metadata": {},
   "outputs": [
    {
     "name": "stdout",
     "output_type": "stream",
     "text": [
      "   a  b  c\n",
      "0  0  1  0\n",
      "1  0  1  0\n",
      "2  1  0  0\n",
      "3  0  0  1\n",
      "4  1  0  0\n",
      "5  0  1  0\n",
      "---------------\n",
      "   data1  key_a  key_b  key_c\n",
      "0      0      0      1      0\n",
      "1      1      0      1      0\n",
      "2      2      1      0      0\n",
      "3      3      0      0      1\n",
      "4      4      1      0      0\n",
      "5      5      0      1      0\n",
      "-------------\n",
      "   movieId                               title  \\\n",
      "0        1                    Toy Story (1995)   \n",
      "1        2                      Jumanji (1995)   \n",
      "2        3             Grumpier Old Men (1995)   \n",
      "3        4            Waiting to Exhale (1995)   \n",
      "4        5  Father of the Bride Part II (1995)   \n",
      "5        6                         Heat (1995)   \n",
      "6        7                      Sabrina (1995)   \n",
      "7        8                 Tom and Huck (1995)   \n",
      "8        9                 Sudden Death (1995)   \n",
      "9       10                    GoldenEye (1995)   \n",
      "\n",
      "                                        genres  \n",
      "0  Adventure|Animation|Children|Comedy|Fantasy  \n",
      "1                   Adventure|Children|Fantasy  \n",
      "2                               Comedy|Romance  \n",
      "3                         Comedy|Drama|Romance  \n",
      "4                                       Comedy  \n",
      "5                        Action|Crime|Thriller  \n",
      "6                               Comedy|Romance  \n",
      "7                           Adventure|Children  \n",
      "8                                       Action  \n",
      "9                    Action|Adventure|Thriller  \n",
      "-------------\n",
      "['Adventure' 'Animation' 'Children' 'Comedy' 'Fantasy' 'Romance' 'Drama'\n",
      " 'Action' 'Crime' 'Thriller' 'Horror' 'Mystery' 'Sci-Fi' 'War' 'Musical'\n",
      " 'Documentary' 'IMAX' 'Western' 'Film-Noir' '(no genres listed)']\n",
      "-------------\n"
     ]
    }
   ],
   "source": [
    "#计算指标/虚拟变量\n",
    "df = pd.DataFrame({'key':['b','b','a','c','a','b'],\n",
    "                    'data1':range(6)})\n",
    "print(pd.get_dummies(df['key']))\n",
    "print('---------------')\n",
    "dummies = pd.get_dummies(df['key'],prefix = 'key')\n",
    "df_with_dumpy = df[['data1']].join(dummies)\n",
    "print(df_with_dumpy)\n",
    "print('-------------')\n",
    "#mnames = ['movie_id','title','genres']\n",
    "#movies = pd.read_table('Datasets/movielens/movies.csv',sep=','header = None,names = mnames)\n",
    "movies = pd.read_table('Datasets/movielens/movies.csv',sep=',')\n",
    "print(movies[:10])\n",
    "print('-------------')\n",
    "all_genres = []\n",
    "for x in movies.genres:\n",
    "    all_genres.extend(x.split('|'))\n",
    "    \n",
    "genres = pd.unique(all_genres)\n",
    "print(genres)\n",
    "print('-------------')"
   ]
  },
  {
   "cell_type": "code",
   "execution_count": 93,
   "metadata": {},
   "outputs": [
    {
     "name": "stdout",
     "output_type": "stream",
     "text": [
      "Adventure|Animation|Children|Comedy|Fantasy\n",
      "---------------\n",
      "['Adventure', 'Animation', 'Children', 'Comedy', 'Fantasy']\n",
      "-----------------\n",
      "[0 1 2 3 4]\n",
      "----------------------\n",
      "movieId                                                               1\n",
      "title                                                  Toy Story (1995)\n",
      "genres                      Adventure|Animation|Children|Comedy|Fantasy\n",
      "Genre_Adventure                                                       1\n",
      "Genre_Animation                                                       1\n",
      "Genre_Children                                                        1\n",
      "Genre_Comedy                                                          1\n",
      "Genre_Fantasy                                                         1\n",
      "Genre_Romance                                                         0\n",
      "Genre_Drama                                                           0\n",
      "Genre_Action                                                          0\n",
      "Genre_Crime                                                           0\n",
      "Genre_Thriller                                                        0\n",
      "Genre_Horror                                                          0\n",
      "Genre_Mystery                                                         0\n",
      "Genre_Sci-Fi                                                          0\n",
      "Genre_War                                                             0\n",
      "Genre_Musical                                                         0\n",
      "Genre_Documentary                                                     0\n",
      "Genre_IMAX                                                            0\n",
      "Genre_Western                                                         0\n",
      "Genre_Film-Noir                                                       0\n",
      "Genre_(no genres listed)                                              0\n",
      "Name: 0, dtype: object\n"
     ]
    }
   ],
   "source": [
    "zero_matrix = np.zeros((len(movies),len(genres)))\n",
    "dummies = pd.DataFrame(pd.DataFrame(zero_matrix,columns = genres))\n",
    "gen = movies.genres[0]\n",
    "print(gen)\n",
    "print('---------------')\n",
    "print(gen.split('|'))\n",
    "print('-----------------')\n",
    "print(dummies.columns.get_indexer(gen.split('|')))\n",
    "print('----------------------')\n",
    "for i,gen in enumerate (movies.genres):\n",
    "    indices = dummies.columns.get_indexer(gen.split('|'))\n",
    "    dummies.iloc[i,indices] = 1\n",
    "    \n",
    "movies_windic = movies.join(dummies.add_prefix('Genre_'))\n",
    "print(movies_windic.iloc[0])"
   ]
  },
  {
   "cell_type": "code",
   "execution_count": 94,
   "metadata": {},
   "outputs": [
    {
     "name": "stdout",
     "output_type": "stream",
     "text": [
      "[0.92961609 0.31637555 0.18391881 0.20456028 0.56772503 0.5955447\n",
      " 0.96451452 0.6531771  0.74890664 0.65356987]\n",
      "--------------\n",
      "   (0.0, 0.2]  (0.2, 0.4]  (0.4, 0.6]  (0.6, 0.8]  (0.8, 1.0]\n",
      "0           0           0           0           0           1\n",
      "1           0           1           0           0           0\n",
      "2           1           0           0           0           0\n",
      "3           0           1           0           0           0\n",
      "4           0           0           1           0           0\n",
      "5           0           0           1           0           0\n",
      "6           0           0           0           0           1\n",
      "7           0           0           0           1           0\n",
      "8           0           0           0           1           0\n",
      "9           0           0           0           1           0\n"
     ]
    }
   ],
   "source": [
    "np.random.seed(12345)\n",
    "values = np.random.rand(10)\n",
    "print(values)\n",
    "print('--------------')\n",
    "bins = [0,0.2,0.4,0.6,0.8,1]\n",
    "print(pd.get_dummies(pd.cut(values,bins)))"
   ]
  },
  {
   "cell_type": "code",
   "execution_count": 99,
   "metadata": {},
   "outputs": [
    {
     "name": "stdout",
     "output_type": "stream",
     "text": [
      "['a', 'b', ' guido']\n",
      "-------------\n",
      "['a', 'b', 'guido']\n",
      "-------------\n",
      "a!b!guido\n",
      "-----------------\n",
      "a!b!guido\n",
      "-----------------\n",
      "1\n",
      "--------------\n",
      "2\n",
      "----------------\n",
      "-1\n",
      "----------------\n",
      "a::b:: guido\n"
     ]
    }
   ],
   "source": [
    "#字符串操作\n",
    "#split(),strip(),jion(),+,in,index(),find(),count(),replace()\n",
    "val = 'a,b, guido'\n",
    "print(val.split(','))\n",
    "print('-------------')\n",
    "pieces = [x.strip() for x in val.split(',')]\n",
    "print(pieces)\n",
    "print('-------------')\n",
    "first,second,third = pieces\n",
    "pie = first+'!'+second+'!'+third\n",
    "print(pie)\n",
    "print('-----------------')\n",
    "pie2 = '!'.join(pieces)\n",
    "print(pie2)\n",
    "print('-----------------')\n",
    "print(val.index(','))\n",
    "print('--------------')\n",
    "print(val.count(','))\n",
    "print('----------------')\n",
    "print(val.find(';'))\n",
    "print('----------------')\n",
    "print(val.replace(',','::'))"
   ]
  },
  {
   "cell_type": "code",
   "execution_count": 100,
   "metadata": {},
   "outputs": [],
   "source": [
    "#正则表达式\n",
    "import re"
   ]
  },
  {
   "cell_type": "code",
   "execution_count": 101,
   "metadata": {},
   "outputs": [
    {
     "data": {
      "text/plain": [
       "['foo', 'bar', 'baz', 'qux']"
      ]
     },
     "execution_count": 101,
     "metadata": {},
     "output_type": "execute_result"
    }
   ],
   "source": [
    "text = \"foo  bar\\t baz  \\tqux\"\n",
    "re.split('\\s+',text)"
   ]
  },
  {
   "cell_type": "code",
   "execution_count": 102,
   "metadata": {},
   "outputs": [
    {
     "data": {
      "text/plain": [
       "['foo', 'bar', 'baz', 'qux']"
      ]
     },
     "execution_count": 102,
     "metadata": {},
     "output_type": "execute_result"
    }
   ],
   "source": [
    "regex=re.compile('\\s+')\n",
    "regex.split(text)"
   ]
  },
  {
   "cell_type": "code",
   "execution_count": 103,
   "metadata": {},
   "outputs": [
    {
     "data": {
      "text/plain": [
       "['  ', '\\t ', '  \\t']"
      ]
     },
     "execution_count": 103,
     "metadata": {},
     "output_type": "execute_result"
    }
   ],
   "source": [
    "regex.findall(text)"
   ]
  },
  {
   "cell_type": "code",
   "execution_count": 110,
   "metadata": {},
   "outputs": [
    {
     "data": {
      "text/plain": [
       "['dave@google.com', 'steve@gmail.com', 'rob@gmail.com', 'ryan@yahoo.com']"
      ]
     },
     "execution_count": 110,
     "metadata": {},
     "output_type": "execute_result"
    }
   ],
   "source": [
    "text = \"\"\"Dave dave@google.com\n",
    "Steve steve@gmail.com\n",
    "Rob rob@gmail.com\n",
    "Ryan ryan@yahoo.com\"\"\"\n",
    "pattern = r'[A-Z0-9-._%+-]+@[A-Z0-9.-]+\\.[A-Z]{2,4}'\n",
    "regex = re.compile(pattern,flags = re.IGNORECASE)\n",
    "regex.findall(text)"
   ]
  },
  {
   "cell_type": "code",
   "execution_count": 111,
   "metadata": {},
   "outputs": [
    {
     "data": {
      "text/plain": [
       "<re.Match object; span=(5, 20), match='dave@google.com'>"
      ]
     },
     "execution_count": 111,
     "metadata": {},
     "output_type": "execute_result"
    }
   ],
   "source": [
    "m = regex.search(text)\n",
    "m"
   ]
  },
  {
   "cell_type": "code",
   "execution_count": 112,
   "metadata": {},
   "outputs": [
    {
     "data": {
      "text/plain": [
       "'dave@google.com'"
      ]
     },
     "execution_count": 112,
     "metadata": {},
     "output_type": "execute_result"
    }
   ],
   "source": [
    "text[m.start():m.end()]"
   ]
  },
  {
   "cell_type": "code",
   "execution_count": 113,
   "metadata": {},
   "outputs": [
    {
     "name": "stdout",
     "output_type": "stream",
     "text": [
      "None\n"
     ]
    }
   ],
   "source": [
    "print(regex.match(text))"
   ]
  },
  {
   "cell_type": "code",
   "execution_count": 114,
   "metadata": {},
   "outputs": [
    {
     "name": "stdout",
     "output_type": "stream",
     "text": [
      "Dave REDACTED\n",
      "Steve REDACTED\n",
      "Rob REDACTED\n",
      "Ryan REDACTED\n"
     ]
    }
   ],
   "source": [
    "print(regex.sub('REDACTED',text))"
   ]
  },
  {
   "cell_type": "code",
   "execution_count": 115,
   "metadata": {},
   "outputs": [],
   "source": [
    "pattern =r'([A-Z0-9-._%+-]+)@([A-Z0-9.-]+)\\.([A-Z]{2,4})'\n",
    "regex = re.compile(pattern,flags = re.IGNORECASE)"
   ]
  },
  {
   "cell_type": "code",
   "execution_count": 116,
   "metadata": {},
   "outputs": [
    {
     "data": {
      "text/plain": [
       "('wesm', 'bright', 'net')"
      ]
     },
     "execution_count": 116,
     "metadata": {},
     "output_type": "execute_result"
    }
   ],
   "source": [
    "m=regex.match('wesm@bright.net')\n",
    "m.groups()"
   ]
  },
  {
   "cell_type": "code",
   "execution_count": 117,
   "metadata": {},
   "outputs": [
    {
     "data": {
      "text/plain": [
       "[('dave', 'google', 'com'),\n",
       " ('steve', 'gmail', 'com'),\n",
       " ('rob', 'gmail', 'com'),\n",
       " ('ryan', 'yahoo', 'com')]"
      ]
     },
     "execution_count": 117,
     "metadata": {},
     "output_type": "execute_result"
    }
   ],
   "source": [
    "regex.findall(text)"
   ]
  },
  {
   "cell_type": "code",
   "execution_count": 118,
   "metadata": {},
   "outputs": [
    {
     "name": "stdout",
     "output_type": "stream",
     "text": [
      "Dave Username:dave,Domain:google,Suffix:com\n",
      "Steve Username:steve,Domain:gmail,Suffix:com\n",
      "Rob Username:rob,Domain:gmail,Suffix:com\n",
      "Ryan Username:ryan,Domain:yahoo,Suffix:com\n"
     ]
    }
   ],
   "source": [
    "print(regex.sub(r'Username:\\1,Domain:\\2,Suffix:\\3',text))"
   ]
  },
  {
   "cell_type": "code",
   "execution_count": 135,
   "metadata": {},
   "outputs": [
    {
     "name": "stdout",
     "output_type": "stream",
     "text": [
      "Dave     dave@google.com\n",
      "Steve    steve@gmail.com\n",
      "Rob        rob@gmail.com\n",
      "Ryan      ryan@yahoo.com\n",
      "Wes                  NaN\n",
      "dtype: object\n",
      "----------------\n",
      "Dave     False\n",
      "Steve    False\n",
      "Rob      False\n",
      "Ryan     False\n",
      "Wes       True\n",
      "dtype: bool\n",
      "Dave     False\n",
      "Steve     True\n",
      "Rob       True\n",
      "Ryan     False\n",
      "Wes        NaN\n",
      "dtype: object\n",
      "----------------\n",
      "([A-Z0-9-._%+-]+)@([A-Z0-9.-]+)\\.([A-Z]{2,4})\n",
      "----------------\n",
      "Dave     [(dave, google, com)]\n",
      "Steve    [(steve, gmail, com)]\n",
      "Rob        [(rob, gmail, com)]\n",
      "Ryan      [(ryan, yahoo, com)]\n",
      "Wes                        NaN\n",
      "dtype: object\n",
      "------------\n",
      "Dave     True\n",
      "Steve    True\n",
      "Rob      True\n",
      "Ryan     True\n",
      "Wes       NaN\n",
      "dtype: object\n",
      "-----------\n",
      "Dave    NaN\n",
      "Steve   NaN\n",
      "Rob     NaN\n",
      "Ryan    NaN\n",
      "Wes     NaN\n",
      "dtype: float64\n",
      "----------------\n",
      "Dave    NaN\n",
      "Steve   NaN\n",
      "Rob     NaN\n",
      "Ryan    NaN\n",
      "Wes     NaN\n",
      "dtype: float64\n",
      "---------------\n",
      "Dave     dave@\n",
      "Steve    steve\n",
      "Rob      rob@g\n",
      "Ryan     ryan@\n",
      "Wes        NaN\n",
      "dtype: object\n"
     ]
    }
   ],
   "source": [
    "#pandas 中向量化字符串函数\n",
    "data = {'Dave': 'dave@google.com','Steve': 'steve@gmail.com','Rob': 'rob@gmail.com','Ryan': 'ryan@yahoo.com','Wes':np.nan}\n",
    "data = pd.Series(data)\n",
    "print(data)\n",
    "print('----------------')\n",
    "print(data.isnull())\n",
    "print(data.str.contains('gmail'))\n",
    "print('----------------')\n",
    "print(pattern)\n",
    "print('----------------')\n",
    "print(data.str.findall(pattern,flags = re.IGNORECASE))\n",
    "print('------------')\n",
    "matches = data.str.match(pattern,flags = re.IGNORECASE)\n",
    "print(matches)\n",
    "print('-----------')\n",
    "print(matches.str.get(1))\n",
    "print('----------------')\n",
    "print(matches.str[1])\n",
    "print('---------------')\n",
    "print(data.str[:5])"
   ]
  },
  {
   "cell_type": "code",
   "execution_count": null,
   "metadata": {},
   "outputs": [],
   "source": []
  }
 ],
 "metadata": {
  "kernelspec": {
   "display_name": "Python 3",
   "language": "python",
   "name": "python3"
  },
  "language_info": {
   "codemirror_mode": {
    "name": "ipython",
    "version": 3
   },
   "file_extension": ".py",
   "mimetype": "text/x-python",
   "name": "python",
   "nbconvert_exporter": "python",
   "pygments_lexer": "ipython3",
   "version": "3.7.1"
  }
 },
 "nbformat": 4,
 "nbformat_minor": 2
}
